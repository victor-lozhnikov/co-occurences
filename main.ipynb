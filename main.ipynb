{
 "cells": [
  {
   "cell_type": "code",
   "execution_count": 1,
   "metadata": {
    "collapsed": true
   },
   "outputs": [],
   "source": [
    "import prepare_data"
   ]
  },
  {
   "cell_type": "code",
   "execution_count": 2,
   "outputs": [
    {
     "name": "stdout",
     "output_type": "stream",
     "text": [
      "CELLS_PATHWAY.txt is processed...\n",
      "CELLS_COMPONENT.txt is processed...\n",
      "CELLS_MIRNA.txt is processed...\n",
      "CELLS_SEFFECT.txt is processed...\n",
      "CELLS_DRUG.txt is processed...\n",
      "CELLS_PHENOTYPE.txt is processed...\n",
      "CELLS_MOLFUNCTION.txt is processed...\n",
      "CELLS_ORGANISM.txt is processed...\n",
      "CELLS_DISEASE.txt is processed...\n",
      "CELLS_CELLS.txt is processed...\n",
      "CELLS_METABOLITE.txt is processed...\n",
      "CELLS_GENE.txt is processed...\n",
      "CELLS_PROTEIN.txt is processed...\n",
      "COMPONENT_MIRNA.txt is processed...\n",
      "COMPONENT_PHENOTYPE.txt is processed...\n",
      "COMPONENT_SEFFECT.txt is processed...\n",
      "COMPONENT_DRUG.txt is processed...\n",
      "COMPONENT_MOLFUNCTION.txt is processed...\n",
      "COMPONENT_ORGANISM.txt is processed...\n",
      "COMPONENT_COMPONENT.txt is processed...\n",
      "COMPONENT_DISEASE.txt is processed...\n",
      "COMPONENT_PATHWAY.txt is processed...\n",
      "COMPONENT_METABOLITE.txt is processed...\n",
      "COMPONENT_GENE.txt is processed...\n",
      "COMPONENT_PROTEIN.txt is processed...\n",
      "DISEASE_SEFFECT.txt is processed...\n",
      "DISEASE_PROTEIN.txt is processed...\n",
      "DISEASE_MIRNA.txt is processed...\n",
      "DISEASE_PATHWAY.txt is processed...\n",
      "DISEASE_PHENOTYPE.txt is processed...\n",
      "DISEASE_DRUG.txt is processed...\n",
      "DISEASE_METABOLITE.txt is processed...\n",
      "DISEASE_GENE.txt is processed...\n",
      "DISEASE_DISEASE.txt is processed...\n",
      "DRUG_SEFFECT.txt is processed...\n",
      "DRUG_PROTEIN.txt is processed...\n",
      "DRUG_PHENOTYPE.txt is processed...\n",
      "DRUG_PATHWAY.txt is processed...\n",
      "DRUG_MIRNA.txt is processed...\n",
      "DRUG_METABOLITE.txt is processed...\n",
      "DRUG_GENE.txt is processed...\n",
      "DRUG_DRUG.txt is processed...\n",
      "GENE_SEFFECT.txt is processed...\n",
      "GENE_PHENOTYPE.txt is processed...\n",
      "GENE_MIRNA.txt is processed...\n",
      "GENE_PATHWAY.txt is processed...\n",
      "GENE_PROTEIN.txt is processed...\n",
      "GENE_METABOLITE.txt is processed...\n",
      "GENE_GENE.txt is processed...\n",
      "METABOLITE_SEFFECT.txt is processed...\n",
      "METABOLITE_PROTEIN.txt is processed...\n",
      "METABOLITE_PHENOTYPE.txt is processed...\n",
      "METABOLITE_MIRNA.txt is processed...\n",
      "METABOLITE_PATHWAY.txt is processed...\n",
      "METABOLITE_METABOLITE.txt is processed...\n",
      "MIRNA_SEFFECT.txt is processed...\n",
      "MIRNA_PROTEIN.txt is processed...\n",
      "MIRNA_PHENOTYPE.txt is processed...\n",
      "MIRNA_PATHWAY.txt is processed...\n",
      "MIRNA_MIRNA.txt is processed...\n",
      "MOLFUNCTION_MIRNA.txt is processed...\n",
      "MOLFUNCTION_PHENOTYPE.txt is processed...\n",
      "MOLFUNCTION_SEFFECT.txt is processed...\n",
      "MOLFUNCTION_DRUG.txt is processed...\n",
      "MOLFUNCTION_MOLFUNCTION.txt is processed...\n",
      "MOLFUNCTION_ORGANISM.txt is processed...\n",
      "MOLFUNCTION_DISEASE.txt is processed...\n",
      "MOLFUNCTION_PATHWAY.txt is processed...\n",
      "MOLFUNCTION_PATHWAY (1).txt is processed...\n",
      "MOLFUNCTION_METABOLITE.txt is processed...\n",
      "MOLFUNCTION_GENE.txt is processed...\n",
      "MOLFUNCTION_PROTEIN.txt is processed...\n",
      "ORGANISM_MIRNA.txt is processed...\n",
      "ORGANISM_PHENOTYPE.txt is processed...\n",
      "ORGANISM_SEFFECT.txt is processed...\n",
      "ORGANISM_DRUG.txt is processed...\n",
      "ORGANISM_ORGANISM.txt is processed...\n",
      "ORGANISM_DISEASE.txt is processed...\n",
      "ORGANISM_PATHWAY.txt is processed...\n",
      "ORGANISM_METABOLITE.txt is processed...\n",
      "ORGANISM_GENE.txt is processed...\n",
      "ORGANISM_PROTEIN.txt is processed...\n",
      "PATHWAY_SEFFECT.txt is processed...\n",
      "PATHWAY_PROTEIN.txt is processed...\n",
      "PATHWAY_PHENOTYPE.txt is processed...\n",
      "PATHWAY_PATHWAY.txt is processed...\n",
      "PHENOTYPE_SEFFECT.txt is processed...\n",
      "PHENOTYPE_PROTEIN.txt is processed...\n",
      "PHENOTYPE_PHENOTYPE.txt is processed...\n",
      "PROTEIN_SEFFECT.txt is processed...\n",
      "PROTEIN_PROTEIN.txt is processed...\n",
      "SEFFECT_SEFFECT.txt is processed...\n",
      "\n",
      "118428129 pairs added to co-occurrences map\n"
     ]
    }
   ],
   "source": [
    "co_occurrences_main_dict = prepare_data.prepare_co_occurrences_data()"
   ],
   "metadata": {
    "collapsed": false,
    "pycharm": {
     "name": "#%%\n"
    }
   }
  },
  {
   "cell_type": "code",
   "execution_count": null,
   "outputs": [],
   "source": [
    "prepare_data.prepare_positive_set(co_occurrences_main_dict)"
   ],
   "metadata": {
    "collapsed": false,
    "pycharm": {
     "name": "#%%\n",
     "is_executing": true
    }
   }
  },
  {
   "cell_type": "code",
   "execution_count": 4,
   "outputs": [
    {
     "name": "stdout",
     "output_type": "stream",
     "text": [
      "22992424\n"
     ]
    }
   ],
   "source": [],
   "metadata": {
    "collapsed": false,
    "pycharm": {
     "name": "#%%\n"
    }
   }
  },
  {
   "cell_type": "code",
   "execution_count": 5,
   "outputs": [
    {
     "name": "stdout",
     "output_type": "stream",
     "text": [
      "We report that in contrast to its enhancement of TGF-beta-mediated [EntityStart] Foxp3 [EntityEnd] induction, at-RA potently inhibits the TGF-beta-mediated induction of [EntityStart] Il10 [EntityEnd] in naive CD4 T cells.\n",
      "88.2905\n"
     ]
    }
   ],
   "source": [],
   "metadata": {
    "collapsed": false,
    "pycharm": {
     "name": "#%%\n"
    }
   }
  }
 ],
 "metadata": {
  "kernelspec": {
   "display_name": "Python 3",
   "language": "python",
   "name": "python3"
  },
  "language_info": {
   "codemirror_mode": {
    "name": "ipython",
    "version": 2
   },
   "file_extension": ".py",
   "mimetype": "text/x-python",
   "name": "python",
   "nbconvert_exporter": "python",
   "pygments_lexer": "ipython2",
   "version": "2.7.6"
  }
 },
 "nbformat": 4,
 "nbformat_minor": 0
}